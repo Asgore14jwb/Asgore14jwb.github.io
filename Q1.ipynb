{
 "cells": [
  {
   "cell_type": "code",
   "execution_count": 5,
   "id": "0e3574d1-1328-4911-b27d-b44698175946",
   "metadata": {},
   "outputs": [],
   "source": [
    "from pyspark.sql import SparkSession\n",
    "from pyspark.sql import functions as F"
   ]
  },
  {
   "cell_type": "code",
   "execution_count": 6,
   "id": "5acb4931-e8ab-443d-ac2f-3736a01fa64b",
   "metadata": {},
   "outputs": [],
   "source": [
    "# 初始化Spark会话\n",
    "spark = SparkSession.builder \\\n",
    "    .config('spark.ui.port', 4040) \\\n",
    "    .appName(\"LogAnalysis\") \\\n",
    "    .getOrCreate()"
   ]
  },
  {
   "cell_type": "code",
   "execution_count": 10,
   "id": "c3fa4456-1c82-43fd-926b-ff0efcdddbd3",
   "metadata": {},
   "outputs": [
    {
     "name": "stderr",
     "output_type": "stream",
     "text": [
      "                                                                                "
     ]
    }
   ],
   "source": [
    "http_path = \"maccdc-2012/{00,01,02,03,04,05}/http.log.gz\"\n",
    "df_http = spark.read.json(http_path)\n",
    "df_http = df_http.withColumn(\"ts\", F.from_unixtime(\"ts\").cast(\"timestamp\"))\n",
    "\n",
    "dns_path = \"maccdc-2012/{00,01,02,03,04,05}/dns.log.gz\"\n",
    "df_dns = spark.read.json(dns_path)\n",
    "df_dns = df_dns.withColumn(\"ts\", F.from_unixtime(\"ts\").cast(\"timestamp\"))\n",
    "\n",
    "df_http.createOrReplaceTempView(\"http_log\")\n",
    "df_dns.createOrReplaceTempView(\"dns_log\")"
   ]
  },
  {
   "cell_type": "code",
   "execution_count": 11,
   "id": "54810556-dae9-4e1c-ba2f-a49e7e2eaac2",
   "metadata": {},
   "outputs": [
    {
     "name": "stderr",
     "output_type": "stream",
     "text": [
      "[Stage 14:=============================>                            (1 + 1) / 2]"
     ]
    },
    {
     "name": "stdout",
     "output_type": "stream",
     "text": [
      "+--------------------+------------+\n",
      "|                 uri|access_count|\n",
      "+--------------------+------------+\n",
      "|                   /|        9475|\n",
      "|/admin/config.php...|         556|\n",
      "|  /main.php?logout=1|         194|\n",
      "|/top.php?stuff=15...|         191|\n",
      "|            /top.php|         179|\n",
      "|/main.php?stuff=1...|         172|\n",
      "|  /get_latest_id.php|         159|\n",
      "|/admin/config.php...|         138|\n",
      "|    /cacti/index.php|         129|\n",
      "|/en-US/api/messag...|         118|\n",
      "|          /index.php|         105|\n",
      "|/phpmyadmin/index...|          77|\n",
      "|             /cacti/|          68|\n",
      "|        /phpmyadmin/|          56|\n",
      "|        /favicon.ico|          55|\n",
      "|              /admin|          42|\n",
      "|  /scripts/index.php|          40|\n",
      "|             /icons/|          39|\n",
      "|/en-US/api/search...|          39|\n",
      "|  /cgi-bin/index.php|          37|\n",
      "+--------------------+------------+\n",
      "only showing top 20 rows\n",
      "\n"
     ]
    },
    {
     "name": "stderr",
     "output_type": "stream",
     "text": [
      "                                                                                "
     ]
    }
   ],
   "source": [
    "task2_result = (\n",
    "    df_http\n",
    "    .filter((F.col(\"status_code\") == 200) & (F.col(\"method\") == \"GET\"))\n",
    "    .groupBy(\"uri\")\n",
    "    .agg(F.count(\"*\").alias(\"access_count\"))\n",
    "    .orderBy(F.desc(\"access_count\"))\n",
    ")\n",
    "task2_result.show()"
   ]
  },
  {
   "cell_type": "code",
   "execution_count": 13,
   "id": "8707f4c6-638b-4477-a4f3-ce2c3caea07b",
   "metadata": {},
   "outputs": [
    {
     "name": "stderr",
     "output_type": "stream",
     "text": [
      "[Stage 18:=============================>                            (1 + 1) / 2]"
     ]
    },
    {
     "name": "stdout",
     "output_type": "stream",
     "text": [
      "+--------------------+-----------------+--------------+\n",
      "|                 uri|http_access_count|tcp_percentage|\n",
      "+--------------------+-----------------+--------------+\n",
      "|                   /|             9475|           0.0|\n",
      "|/admin/config.php...|              556|           0.0|\n",
      "|  /main.php?logout=1|              194|           0.0|\n",
      "|/top.php?stuff=15...|              191|           0.0|\n",
      "|            /top.php|              179|           0.0|\n",
      "|/main.php?stuff=1...|              172|           0.0|\n",
      "|  /get_latest_id.php|              159|           0.0|\n",
      "|/admin/config.php...|              138|           0.0|\n",
      "|    /cacti/index.php|              129|           0.0|\n",
      "|/en-US/api/messag...|              118|           0.0|\n",
      "|          /index.php|              105|           0.0|\n",
      "|/phpmyadmin/index...|               77|           0.0|\n",
      "|             /cacti/|               68|           0.0|\n",
      "|        /phpmyadmin/|               56|           0.0|\n",
      "|        /favicon.ico|               55|           0.0|\n",
      "|              /admin|               42|           0.0|\n",
      "|  /scripts/index.php|               40|           0.0|\n",
      "|             /icons/|               39|           0.0|\n",
      "|/en-US/api/search...|               39|           0.0|\n",
      "|  /cgi-bin/index.php|               37|           0.0|\n",
      "+--------------------+-----------------+--------------+\n",
      "only showing top 20 rows\n",
      "\n"
     ]
    },
    {
     "name": "stderr",
     "output_type": "stream",
     "text": [
      "                                                                                "
     ]
    }
   ],
   "source": [
    "task3_result = (\n",
    "    df_http.alias(\"h\")\n",
    "    .join(df_dns.alias(\"d\"), \"uid\", \"left\")\n",
    "    .filter(\n",
    "        (F.col(\"h.status_code\") == 200) & \n",
    "        (F.col(\"h.method\") == \"GET\")\n",
    "    )\n",
    "    .groupBy(\"h.uri\")\n",
    "    .agg(\n",
    "        F.count(\"h.uid\").alias(\"http_access_count\"),\n",
    "        F.round(\n",
    "            F.coalesce(\n",
    "                F.sum(F.when(F.col(\"d.proto\") == \"tcp\", 1).otherwise(0)) * 100.0 /\n",
    "                F.nullif(F.count(\"d.uid\"), F.lit(0)),  # 修正这里：将0改为F.lit(0)\n",
    "                F.lit(0.0)\n",
    "            ), 2\n",
    "        ).alias(\"tcp_percentage\")\n",
    "    )\n",
    "    .orderBy(F.desc(\"http_access_count\"))\n",
    ")\n",
    "task3_result.show()"
   ]
  },
  {
   "cell_type": "code",
   "execution_count": null,
   "id": "6d18033c-bdb7-4285-85a6-e92a6a615505",
   "metadata": {},
   "outputs": [],
   "source": []
  }
 ],
 "metadata": {
  "kernelspec": {
   "display_name": "Python 3 (ipykernel)",
   "language": "python",
   "name": "python3"
  },
  "language_info": {
   "codemirror_mode": {
    "name": "ipython",
    "version": 3
   },
   "file_extension": ".py",
   "mimetype": "text/x-python",
   "name": "python",
   "nbconvert_exporter": "python",
   "pygments_lexer": "ipython3",
   "version": "3.10.12"
  }
 },
 "nbformat": 4,
 "nbformat_minor": 5
}
